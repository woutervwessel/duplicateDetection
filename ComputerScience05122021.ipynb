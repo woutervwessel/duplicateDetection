{
 "cells": [
  {
   "cell_type": "code",
   "execution_count": 1,
   "metadata": {},
   "outputs": [],
   "source": [
    "import pandas\n",
    "import random \n",
    "import json\n",
    "import numpy as np\n",
    "from itertools import combinations"
   ]
  },
  {
   "cell_type": "code",
   "execution_count": 2,
   "metadata": {},
   "outputs": [
    {
     "name": "stdout",
     "output_type": "stream",
     "text": [
      "<class 'dict'>\n"
     ]
    }
   ],
   "source": [
    "#Opening the .json which is read as a dictionary by python\n",
    "with open('TVs-all-merged.json') as f:\n",
    "    data = json.load(f)\n",
    "print(type(data))"
   ]
  },
  {
   "cell_type": "code",
   "execution_count": 129,
   "metadata": {},
   "outputs": [
    {
     "data": {
      "text/plain": [
       "[{'shop': 'amazon.com',\n",
       "  'url': 'http://www.amazon.com/Samsung-UN46ES6580-46-Inch-1080p-120Hz/dp/B007B9PMCO/ref=sr_1_95/182-5884791-9374669?ie=UTF8&qid=1379502010&s=electronics&sr=1-95',\n",
       "  'modelID': 'UN46ES6580',\n",
       "  'featuresMap': {'Date first available at Amazon.com': 'February 20, 2012',\n",
       "   'Product Dimensions:': '52 x 6.8 x 28.7 inches ; 33.3 pounds',\n",
       "   'Display Technology': 'LED-lit',\n",
       "   'Display Size': '46 inches',\n",
       "   'Shipping:': 'Currently, item can be shipped only within the U.S.',\n",
       "   'Brand Name': 'Samsung',\n",
       "   'Image Aspect Ratio': '16:09',\n",
       "   'ASIN:': 'B007B9PMCO',\n",
       "   'Shipping Weight': '41 pounds ('},\n",
       "  'title': 'Samsung UN46ES6580 46-Inch 1080p 120Hz 3D Slim LED HDTV (Black)'},\n",
       " {'shop': 'newegg.com',\n",
       "  'url': 'http://www.newegg.com/Product/Product.aspx?Item=9SIA22F0UT0237',\n",
       "  'modelID': 'UN46ES6580',\n",
       "  'featuresMap': {'Component Video': '1 In',\n",
       "   'LAN': 'Ethernet x 1',\n",
       "   'Support Video Signal': '1080i/p, 720p, 480i/p',\n",
       "   'Recommended Resolution': '1080p',\n",
       "   'Wireless': 'Wi-Fi Built-in',\n",
       "   'Weight Without Stand': '29.0 lbs.',\n",
       "   'HDMI': '3 In',\n",
       "   'Aspect Ratio': '16:9',\n",
       "   'Dimensions With Stand': '42.1\" x 28.3\" x 10.9\" (W x H x D)',\n",
       "   'Enhanced Motion': 'Clear Motion Rate 480',\n",
       "   'Output Power': '10W + 10W',\n",
       "   'Cabinet Color': 'Black',\n",
       "   'Maximum Resolution': '1920 x 1080',\n",
       "   '3DTV': 'Yes',\n",
       "   'Refresh Rate': '240Hz',\n",
       "   'Screen Size': '46\" Class (45.9\" Diag.)',\n",
       "   'Composite A/V': '2 In',\n",
       "   'USB': '3',\n",
       "   'Simulated Surround': 'SRS TheaterSound HD',\n",
       "   'Smart TV': 'Yes',\n",
       "   'Brand': 'Samsung',\n",
       "   'Feature': 'Smart Content with Signature Services',\n",
       "   'LED Technology': 'Edgelit',\n",
       "   'Dimensions Without Stand': '42.1\" x 25.0\" x 1.2\" (W x H x D)',\n",
       "   'Digital Audio': '1 Optical Out',\n",
       "   'Weight With Stand': '33.0 lbs.'},\n",
       "  'title': 'Newegg.com - Refurbished: Samsung 46\" Class (45.9\" Diag.) 1080p 240Hz LED HDTV UN46ES6580'}]"
      ]
     },
     "execution_count": 129,
     "metadata": {},
     "output_type": "execute_result"
    }
   ],
   "source": [
    "data['UN46ES6580']"
   ]
  },
  {
   "cell_type": "code",
   "execution_count": 130,
   "metadata": {},
   "outputs": [
    {
     "name": "stdout",
     "output_type": "stream",
     "text": [
      "1262\n"
     ]
    }
   ],
   "source": [
    "#Amount of keys (which some people thought was the amount of descriptions in the dataset)\n",
    "print(len(data.keys()))"
   ]
  },
  {
   "cell_type": "code",
   "execution_count": 3,
   "metadata": {},
   "outputs": [
    {
     "name": "stdout",
     "output_type": "stream",
     "text": [
      "1624\n"
     ]
    }
   ],
   "source": [
    "#Looping through the dataset and counting the amount of descriptions per key (Key is model number)\n",
    "amount_of_descriptions = 0\n",
    "for key in data.keys():\n",
    "    amount_of_descriptions += len(data[key])\n",
    "print(amount_of_descriptions)"
   ]
  },
  {
   "cell_type": "code",
   "execution_count": 4,
   "metadata": {},
   "outputs": [
    {
     "name": "stdout",
     "output_type": "stream",
     "text": [
      "1624\n"
     ]
    }
   ],
   "source": [
    "#Making the descriptions seperate elements instead of storing them as a single element.\n",
    "#(I think this is preferable for making the algorithm for the paper)\n",
    "new_data = {}\n",
    "i = 1\n",
    "for key in data.keys():\n",
    "    for description in data[key]:\n",
    "        new_data[i] = description\n",
    "        i+=1\n",
    "print(len(new_data.keys()))"
   ]
  },
  {
   "cell_type": "code",
   "execution_count": 32,
   "metadata": {},
   "outputs": [
    {
     "data": {
      "text/plain": [
       "dict_keys([1, 2, 3, 4, 5, 6, 7, 8, 9, 10, 11, 12, 13, 14, 15, 16, 17, 18, 19, 20, 21, 22, 23, 24, 25, 26, 27, 28, 29, 30, 31, 32, 33, 34, 35, 36, 37, 38, 39, 40, 41, 42, 43, 44, 45, 46, 47, 48, 49, 50, 51, 52, 53, 54, 55, 56, 57, 58, 59, 60, 61, 62, 63, 64, 65, 66, 67, 68, 69, 70, 71, 72, 73, 74, 75, 76, 77, 78, 79, 80, 81, 82, 83, 84, 85, 86, 87, 88, 89, 90, 91, 92, 93, 94, 95, 96, 97, 98, 99, 100, 101, 102, 103, 104, 105, 106, 107, 108, 109, 110, 111, 112, 113, 114, 115, 116, 117, 118, 119, 120, 121, 122, 123, 124, 125, 126, 127, 128, 129, 130, 131, 132, 133, 134, 135, 136, 137, 138, 139, 140, 141, 142, 143, 144, 145, 146, 147, 148, 149, 150, 151, 152, 153, 154, 155, 156, 157, 158, 159, 160, 161, 162, 163, 164, 165, 166, 167, 168, 169, 170, 171, 172, 173, 174, 175, 176, 177, 178, 179, 180, 181, 182, 183, 184, 185, 186, 187, 188, 189, 190, 191, 192, 193, 194, 195, 196, 197, 198, 199, 200, 201, 202, 203, 204, 205, 206, 207, 208, 209, 210, 211, 212, 213, 214, 215, 216, 217, 218, 219, 220, 221, 222, 223, 224, 225, 226, 227, 228, 229, 230, 231, 232, 233, 234, 235, 236, 237, 238, 239, 240, 241, 242, 243, 244, 245, 246, 247, 248, 249, 250, 251, 252, 253, 254, 255, 256, 257, 258, 259, 260, 261, 262, 263, 264, 265, 266, 267, 268, 269, 270, 271, 272, 273, 274, 275, 276, 277, 278, 279, 280, 281, 282, 283, 284, 285, 286, 287, 288, 289, 290, 291, 292, 293, 294, 295, 296, 297, 298, 299, 300, 301, 302, 303, 304, 305, 306, 307, 308, 309, 310, 311, 312, 313, 314, 315, 316, 317, 318, 319, 320, 321, 322, 323, 324, 325, 326, 327, 328, 329, 330, 331, 332, 333, 334, 335, 336, 337, 338, 339, 340, 341, 342, 343, 344, 345, 346, 347, 348, 349, 350, 351, 352, 353, 354, 355, 356, 357, 358, 359, 360, 361, 362, 363, 364, 365, 366, 367, 368, 369, 370, 371, 372, 373, 374, 375, 376, 377, 378, 379, 380, 381, 382, 383, 384, 385, 386, 387, 388, 389, 390, 391, 392, 393, 394, 395, 396, 397, 398, 399, 400, 401, 402, 403, 404, 405, 406, 407, 408, 409, 410, 411, 412, 413, 414, 415, 416, 417, 418, 419, 420, 421, 422, 423, 424, 425, 426, 427, 428, 429, 430, 431, 432, 433, 434, 435, 436, 437, 438, 439, 440, 441, 442, 443, 444, 445, 446, 447, 448, 449, 450, 451, 452, 453, 454, 455, 456, 457, 458, 459, 460, 461, 462, 463, 464, 465, 466, 467, 468, 469, 470, 471, 472, 473, 474, 475, 476, 477, 478, 479, 480, 481, 482, 483, 484, 485, 486, 487, 488, 489, 490, 491, 492, 493, 494, 495, 496, 497, 498, 499, 500, 501, 502, 503, 504, 505, 506, 507, 508, 509, 510, 511, 512, 513, 514, 515, 516, 517, 518, 519, 520, 521, 522, 523, 524, 525, 526, 527, 528, 529, 530, 531, 532, 533, 534, 535, 536, 537, 538, 539, 540, 541, 542, 543, 544, 545, 546, 547, 548, 549, 550, 551, 552, 553, 554, 555, 556, 557, 558, 559, 560, 561, 562, 563, 564, 565, 566, 567, 568, 569, 570, 571, 572, 573, 574, 575, 576, 577, 578, 579, 580, 581, 582, 583, 584, 585, 586, 587, 588, 589, 590, 591, 592, 593, 594, 595, 596, 597, 598, 599, 600, 601, 602, 603, 604, 605, 606, 607, 608, 609, 610, 611, 612, 613, 614, 615, 616, 617, 618, 619, 620, 621, 622, 623, 624, 625, 626, 627, 628, 629, 630, 631, 632, 633, 634, 635, 636, 637, 638, 639, 640, 641, 642, 643, 644, 645, 646, 647, 648, 649, 650, 651, 652, 653, 654, 655, 656, 657, 658, 659, 660, 661, 662, 663, 664, 665, 666, 667, 668, 669, 670, 671, 672, 673, 674, 675, 676, 677, 678, 679, 680, 681, 682, 683, 684, 685, 686, 687, 688, 689, 690, 691, 692, 693, 694, 695, 696, 697, 698, 699, 700, 701, 702, 703, 704, 705, 706, 707, 708, 709, 710, 711, 712, 713, 714, 715, 716, 717, 718, 719, 720, 721, 722, 723, 724, 725, 726, 727, 728, 729, 730, 731, 732, 733, 734, 735, 736, 737, 738, 739, 740, 741, 742, 743, 744, 745, 746, 747, 748, 749, 750, 751, 752, 753, 754, 755, 756, 757, 758, 759, 760, 761, 762, 763, 764, 765, 766, 767, 768, 769, 770, 771, 772, 773, 774, 775, 776, 777, 778, 779, 780, 781, 782, 783, 784, 785, 786, 787, 788, 789, 790, 791, 792, 793, 794, 795, 796, 797, 798, 799, 800, 801, 802, 803, 804, 805, 806, 807, 808, 809, 810, 811, 812, 813, 814, 815, 816, 817, 818, 819, 820, 821, 822, 823, 824, 825, 826, 827, 828, 829, 830, 831, 832, 833, 834, 835, 836, 837, 838, 839, 840, 841, 842, 843, 844, 845, 846, 847, 848, 849, 850, 851, 852, 853, 854, 855, 856, 857, 858, 859, 860, 861, 862, 863, 864, 865, 866, 867, 868, 869, 870, 871, 872, 873, 874, 875, 876, 877, 878, 879, 880, 881, 882, 883, 884, 885, 886, 887, 888, 889, 890, 891, 892, 893, 894, 895, 896, 897, 898, 899, 900, 901, 902, 903, 904, 905, 906, 907, 908, 909, 910, 911, 912, 913, 914, 915, 916, 917, 918, 919, 920, 921, 922, 923, 924, 925, 926, 927, 928, 929, 930, 931, 932, 933, 934, 935, 936, 937, 938, 939, 940, 941, 942, 943, 944, 945, 946, 947, 948, 949, 950, 951, 952, 953, 954, 955, 956, 957, 958, 959, 960, 961, 962, 963, 964, 965, 966, 967, 968, 969, 970, 971, 972, 973, 974, 975, 976, 977, 978, 979, 980, 981, 982, 983, 984, 985, 986, 987, 988, 989, 990, 991, 992, 993, 994, 995, 996, 997, 998, 999, 1000, 1001, 1002, 1003, 1004, 1005, 1006, 1007, 1008, 1009, 1010, 1011, 1012, 1013, 1014, 1015, 1016, 1017, 1018, 1019, 1020, 1021, 1022, 1023, 1024, 1025, 1026, 1027, 1028, 1029, 1030, 1031, 1032, 1033, 1034, 1035, 1036, 1037, 1038, 1039, 1040, 1041, 1042, 1043, 1044, 1045, 1046, 1047, 1048, 1049, 1050, 1051, 1052, 1053, 1054, 1055, 1056, 1057, 1058, 1059, 1060, 1061, 1062, 1063, 1064, 1065, 1066, 1067, 1068, 1069, 1070, 1071, 1072, 1073, 1074, 1075, 1076, 1077, 1078, 1079, 1080, 1081, 1082, 1083, 1084, 1085, 1086, 1087, 1088, 1089, 1090, 1091, 1092, 1093, 1094, 1095, 1096, 1097, 1098, 1099, 1100, 1101, 1102, 1103, 1104, 1105, 1106, 1107, 1108, 1109, 1110, 1111, 1112, 1113, 1114, 1115, 1116, 1117, 1118, 1119, 1120, 1121, 1122, 1123, 1124, 1125, 1126, 1127, 1128, 1129, 1130, 1131, 1132, 1133, 1134, 1135, 1136, 1137, 1138, 1139, 1140, 1141, 1142, 1143, 1144, 1145, 1146, 1147, 1148, 1149, 1150, 1151, 1152, 1153, 1154, 1155, 1156, 1157, 1158, 1159, 1160, 1161, 1162, 1163, 1164, 1165, 1166, 1167, 1168, 1169, 1170, 1171, 1172, 1173, 1174, 1175, 1176, 1177, 1178, 1179, 1180, 1181, 1182, 1183, 1184, 1185, 1186, 1187, 1188, 1189, 1190, 1191, 1192, 1193, 1194, 1195, 1196, 1197, 1198, 1199, 1200, 1201, 1202, 1203, 1204, 1205, 1206, 1207, 1208, 1209, 1210, 1211, 1212, 1213, 1214, 1215, 1216, 1217, 1218, 1219, 1220, 1221, 1222, 1223, 1224, 1225, 1226, 1227, 1228, 1229, 1230, 1231, 1232, 1233, 1234, 1235, 1236, 1237, 1238, 1239, 1240, 1241, 1242, 1243, 1244, 1245, 1246, 1247, 1248, 1249, 1250, 1251, 1252, 1253, 1254, 1255, 1256, 1257, 1258, 1259, 1260, 1261, 1262, 1263, 1264, 1265, 1266, 1267, 1268, 1269, 1270, 1271, 1272, 1273, 1274, 1275, 1276, 1277, 1278, 1279, 1280, 1281, 1282, 1283, 1284, 1285, 1286, 1287, 1288, 1289, 1290, 1291, 1292, 1293, 1294, 1295, 1296, 1297, 1298, 1299, 1300, 1301, 1302, 1303, 1304, 1305, 1306, 1307, 1308, 1309, 1310, 1311, 1312, 1313, 1314, 1315, 1316, 1317, 1318, 1319, 1320, 1321, 1322, 1323, 1324, 1325, 1326, 1327, 1328, 1329, 1330, 1331, 1332, 1333, 1334, 1335, 1336, 1337, 1338, 1339, 1340, 1341, 1342, 1343, 1344, 1345, 1346, 1347, 1348, 1349, 1350, 1351, 1352, 1353, 1354, 1355, 1356, 1357, 1358, 1359, 1360, 1361, 1362, 1363, 1364, 1365, 1366, 1367, 1368, 1369, 1370, 1371, 1372, 1373, 1374, 1375, 1376, 1377, 1378, 1379, 1380, 1381, 1382, 1383, 1384, 1385, 1386, 1387, 1388, 1389, 1390, 1391, 1392, 1393, 1394, 1395, 1396, 1397, 1398, 1399, 1400, 1401, 1402, 1403, 1404, 1405, 1406, 1407, 1408, 1409, 1410, 1411, 1412, 1413, 1414, 1415, 1416, 1417, 1418, 1419, 1420, 1421, 1422, 1423, 1424, 1425, 1426, 1427, 1428, 1429, 1430, 1431, 1432, 1433, 1434, 1435, 1436, 1437, 1438, 1439, 1440, 1441, 1442, 1443, 1444, 1445, 1446, 1447, 1448, 1449, 1450, 1451, 1452, 1453, 1454, 1455, 1456, 1457, 1458, 1459, 1460, 1461, 1462, 1463, 1464, 1465, 1466, 1467, 1468, 1469, 1470, 1471, 1472, 1473, 1474, 1475, 1476, 1477, 1478, 1479, 1480, 1481, 1482, 1483, 1484, 1485, 1486, 1487, 1488, 1489, 1490, 1491, 1492, 1493, 1494, 1495, 1496, 1497, 1498, 1499, 1500, 1501, 1502, 1503, 1504, 1505, 1506, 1507, 1508, 1509, 1510, 1511, 1512, 1513, 1514, 1515, 1516, 1517, 1518, 1519, 1520, 1521, 1522, 1523, 1524, 1525, 1526, 1527, 1528, 1529, 1530, 1531, 1532, 1533, 1534, 1535, 1536, 1537, 1538, 1539, 1540, 1541, 1542, 1543, 1544, 1545, 1546, 1547, 1548, 1549, 1550, 1551, 1552, 1553, 1554, 1555, 1556, 1557, 1558, 1559, 1560, 1561, 1562, 1563, 1564, 1565, 1566, 1567, 1568, 1569, 1570, 1571, 1572, 1573, 1574, 1575, 1576, 1577, 1578, 1579, 1580, 1581, 1582, 1583, 1584, 1585, 1586, 1587, 1588, 1589, 1590, 1591, 1592, 1593, 1594, 1595, 1596, 1597, 1598, 1599, 1600, 1601, 1602, 1603, 1604, 1605, 1606, 1607, 1608, 1609, 1610, 1611, 1612, 1613, 1614, 1615, 1616, 1617, 1618, 1619, 1620, 1621, 1622, 1623, 1624])"
      ]
     },
     "execution_count": 32,
     "metadata": {},
     "output_type": "execute_result"
    }
   ],
   "source": [
    "new_data.keys()"
   ]
  },
  {
   "cell_type": "code",
   "execution_count": 33,
   "metadata": {},
   "outputs": [
    {
     "name": "stdout",
     "output_type": "stream",
     "text": [
      "True: each product has a shop element\n"
     ]
    }
   ],
   "source": [
    "#Check if each product has an element 'shop'\n",
    "shop_elements = 0\n",
    "for key in new_data.keys():\n",
    "    if 'shop' in new_data[key].keys():\n",
    "        shop_elements += 1\n",
    "\n",
    "if shop_elements == len(new_data):\n",
    "    print('True: each product has a shop element')"
   ]
  },
  {
   "cell_type": "code",
   "execution_count": 34,
   "metadata": {},
   "outputs": [
    {
     "data": {
      "text/plain": [
       "dict_keys(['shop', 'url', 'modelID', 'featuresMap', 'title'])"
      ]
     },
     "execution_count": 34,
     "metadata": {},
     "output_type": "execute_result"
    }
   ],
   "source": [
    "#Example of model with multiple descriptions\n",
    "new_data[1].keys()"
   ]
  },
  {
   "cell_type": "code",
   "execution_count": 35,
   "metadata": {},
   "outputs": [
    {
     "name": "stdout",
     "output_type": "stream",
     "text": [
      "4\n"
     ]
    }
   ],
   "source": [
    "#Double checking if the claim about their only being maximum of 4 for the same model is true. (it is)\n",
    "highest_amount = 1\n",
    "for key in data.keys():\n",
    "    if len(data[key]) > highest_amount:\n",
    "        highest_amount = len(data[key])\n",
    "print(highest_amount)"
   ]
  },
  {
   "cell_type": "code",
   "execution_count": 5,
   "metadata": {},
   "outputs": [
    {
     "name": "stdout",
     "output_type": "stream",
     "text": [
      "1624\n"
     ]
    }
   ],
   "source": [
    "#create set of titles \n",
    "set_titles = {}\n",
    "for key in new_data.keys():\n",
    "    set_titles[key] =  new_data[key]['title'] \n",
    "    \n",
    "print(len(set_titles))"
   ]
  },
  {
   "cell_type": "code",
   "execution_count": 37,
   "metadata": {},
   "outputs": [
    {
     "name": "stdout",
     "output_type": "stream",
     "text": [
      "Newegg.com - Sharp Aquos 70\" Class (69.5\" Diagonal) 1080p 120Hz LED-LCD HDTV - LC70LE550U\n",
      "Newegg.com - Samsung 64\" Class (64.01\" Diag.) 1080p 600Hz Plasma HDTV PN64D7000FFXZA\n",
      "['70inch', '69.5inch', '1080p', '120hz', 'lc70le550u']\n",
      "['64inch', '64.01inch', '1080p', '600hz', 'pn64d7000ffxza']\n"
     ]
    }
   ],
   "source": [
    "#create set of titles \n",
    "set_titles = {}\n",
    "for key in new_data.keys():\n",
    "    set_titles[key] =  new_data[key]['title'] \n",
    "    \n",
    "print(set_titles[5])\n",
    "print(set_titles[60])\n",
    "\n",
    "\n",
    "import re\n",
    "#Replace and make seperate elements\n",
    "regex = '[a-zA-Z0-9.]*[0-9]+[a-zA-Z0-9.]*'\n",
    "new_title= set_titles\n",
    "for key in new_title.keys():\n",
    "    new_title[key] = new_title[key].replace('\"','inch')\n",
    "    new_title[key] = new_title[key].lower()\n",
    "    new_title[key] = re.sub(\"[^a-zA-Z0-9\\s\\.]\",\"\",new_title[key])\n",
    "    new_title[key] = re.findall(regex, new_title[key])\n",
    "print(new_title[5])\n",
    "print(new_title[60])\n"
   ]
  },
  {
   "cell_type": "code",
   "execution_count": 38,
   "metadata": {},
   "outputs": [
    {
     "name": "stdout",
     "output_type": "stream",
     "text": [
      "['4000', '29inch', '2812inch', '720p', '60hz', '29pfl4508f7', '32inch', 'sc3211', '90inch', '1080p', '120hz', '3d', 'lc90le657u', '2000', '39inch', '3858inch', '39pfl2908f7', '70inch', '69.5inch', 'lc70le550u', '40inch', 'un40f6350a', 'hg40na577lf', '46inch', 'un46f5000af', 'e463', 'un46es6580', '45.9inch', '240hz', '3812inch', 'le39fhde3010', '31.5inch', '32sl410u', '42inch', 'ltdn42v68us', 'kdl40bx420', 'pn60e8000', '60inch', '600hz', '2012', 'h40b', '26inch', '26ln4500', '26.0inch', '55inch', 'dp55441', 'lc70le650u', 'pn51e8000', '51inch', '64inch', 'ledtv3226', '41.6inch', 'tcp42x3', 'xbr65hx950', '65inch', '43inch', 'pn43f4500afxza', '55lm8600', '54.6inch', 'pn43e450a1fxza', '7inch', 'dpdm70r', '65', '4k', '65l9300ubdx6400kit', '5458inch', '55la6200', '42lm3400', '50inch', '49910inch', 'tcp50x60', 'un46fh6030fxza', 'ln32d403fxza', 'pn60e550', '550', 'ln40d550k1f', '45910inch', 'un46eh5000fxza', '120cmr', 'm651da2r', 'pn64f8500afxza', '47inch', '46910inch', '47g2', '46.9inch', '42ls5700', '24inch', '23.5inch', '24sl410u', 'pn58c680', '58inch', '26pfl4507', '26pfl4507f7', '5034inch', 'pn51e530rb', 'lc60le650u', '64.01inch', 'pn64d7000ffxza', '47ld500', '3112inch', 'un32f5500afxza', '5500', '120', 'tos55sl417ubx', 'nt7580', '47ln5700', 'un60f7100afxza', '41910inch', '42ln5400', '41.9inch', 'lc60le820un', 'th42ph30u', '40.0inch', 'un40eh6030', 'sled3280', '4912inch', '50l7300u', '50', '49.5inch', '75inch', '7412inch', 'un75f6400afxza', '74.5inch', 'ledtv4626', '6018inch', 'tcp60st60', '37inch', 'e371vl', '26lh200c', '36.6inch', '37lt770h', '22inch', 'vt2215led', '21.5inch', 'un55es7003', '65ht2u', '64.6inch', 'lc70le857u', '2112inch', '22ln4500', 'nsx40gt1', 'avk10s22w', '32pfl4508', '60pv450c', 'pn58c8000', 'ns39d400na14', '28inch', '2712inch', 'ns28e200na14', '42pw350', '600', 'kdl55w900a', '3260hd', 'un40f5000af', 'pn64e7000', '64.5inch', 'th65lru60', 'un55f6350', '19inch', '1812inch', 'un19f4000afxza', 'ns32d120a13', '40l2200u', '2358inch', '24me403v', 'un46f7500afxza', 'tcl32u3', 'e261va', '32le5300', '59inch', '37ld450c', 'un55eh6030fxza', 'dp26671', 'un60f7050arb', 'e1910tbn', 'jle47bc3500', '32pfl4507f7', 'un75f7100afxza', 'r400', 'kdl32r400a', 'un32f5000afxza', '5000', '31.5inchdiagonal', 'un60f7100', '240', '21.6inch', '22lv2500', '40l5200u', '60la6200', '59.5inch', 'pn50c8000rb', '480hz', '55lw9800', '6150', 'un55es6150', '50pk950', 'tcp46s30', '60132inch', 'lc60le745u', '5712inch', '58l4300u', 'un60es7500', '60.0inch', 'un60es7500fxza', 'un46d6400', '2011', 'lc70le750u', 'un40eh5050', '6412inch', '2160p', '65l9300u', 'm470sl', '46.96inch', 'ns32e440a13', '24pfl4508f7', '50pm9700', '50l1350u', 'un60f6350a', 'h32b', 'tcp60gt30', 'un46d6500', 'le50f2280', 'th1060p', '169', '420', 'cdm2', '20001', '60', 'p701avt', 'un40f5000afxza', 'tcp50s60', 'xvt553sv', '60lm7200', '6912inch', 'e701ia3', 'un65c8000', '84inch', '84l9300u', 'un55f7100afxza', '7100', 'lc70c7500u', '32lq630h', 'pled2435a', 'e470ia0', 'pn51f5300afxza', '10inch', 'klv39103', '26lt560c', 'jlc42bc3002', 'tftv4028', '42lv5500', '50pt350c', 'un40es6150', 'un46c7000', '46', 'pn51e6500', 'un32d4000', '32', 'e291ia1', 'pn51e490b4fxza', '50.73inch', 'un75es9000', '16inch', '1558inch', 'detk156r', '59.9inch', 'pn60e530a3fxza', '23.6inch', 't24c550nd', 'un55d6500', '29l1350u', '29', 'lc70le755u', 'kdl55hx820', 'lc70le757u', '40pfl4707f7', 'sled2480', '50la6200', 'kdl32bx420', 'f39v77c', '4018inch', 'ledtv4026', '15inch', 'sc1511', '50ga6400', '65l7350u', 'class64.5inch', '42sl417u', '55lw6500', 'un40eh6000f', '47tl515u', 'ln46c750', 'em32t', 'tcl47dt50', 'ns32e321a13', 'un55d6900rb', 'kdl55hx750', '23inch', 'm2362dpem', 'e321me', 'un22d5003bf', '55la8600', 'xvt3d424sv', '480', '5978inch', '60pn5300', '58', '32pfl4908', 'un55es6500', 'ns24e200na14', 'm3d420sr', '39pfl2708f7', 'ns32d200na14', 'ptc42lc', 'tcl47et5', '4', '50.7inch', 'pn51e6500efxza', 'un50es6580', 'tcl47wt50', '80inch', 'lc80le650u', '18.5inch', 'm190mv', 'e320a0', 'tcp65vt30', 'un50f6400afxza', '32me403v', '55l6200u', '3dp', '54.64inch', '42la6200', '30000001', 'jlc47bc3000', 'un55c8000', 'lc60le857u', 'le22d3380', 'as221wm', 'un55f6400afxza', '6400', '55', 'tftv3925', 'th39lru60', '55lm4600', 'lc80le844u', '6300', 'un46f6300', 'm3d550sr', '232750inch', 'e241ia1', '32ls349c', 'un60fh6003fxza', 'dp50710', 'm420nv', 'un50eh5300f', 'tc55le54rb', 'tcp50s30', '40', 'x405bvfmd', '27inch', 't27b350nd', 'e390ia1', 'pn59d8000', 'pn43d450', 'un55es6600', 'un75f8000afxza', '46l5200u', 'lc60le835u', 'le32hde5310', '55pfl4706f7', 'un60d7000', 'e553', '65l7300u', '42lv355b', 'uw40t8lw', 'th37lru50', '40in', '400cxn', '60pz950', '59.8inch', '50pz550', '32me303v', 'sb4610hd', 'vt1601led', '15.6inch', 'tcp54vt25', '54inch', '23.54inch', 'e241a1', '55lm9600', '6', 'un65eh6000', '55le5500', 'lc70le640u', 'pn59d7000', 'pn58c8000yf', 'm321ia2', '40e220u', '742750inch', 'un75es9000fxza', 'un40es6580', 'lc60e69u', 'un55d6000sf', 'wd65738', '2010', '55tl515u', 'l75a96', '23l1350u', '23.0inch', '32l2300u', '47cs570', 'lc40le835u', '46vx700u', '4610hd', 'un60es8000', 'sc1911', '60ls579c', '46pfl3706f7', '590', 'pn58c590rb', 'e423', 'ns22e400na14', 'un55eh6050', 'tftv3229', '23', 'le39f32800', '39', 'un65eh6000fxza', 'kdl65hx729', 'hx729series', 'me40b', '42pn4500', '26pfl4907f7', 'dx32l200na14', '65ul610u', 'un60eh6003fxza', '6003', '478', 'hg32na478pfxza', 'un60es8000fxza', 'led32b30rq', 'pn58c6500rb', '4660hd', 'un55f6300', '55ls5700', '50pv400', '57.5inch', 'dp58d33', '50pfl3707f7', '50pfl3807f7', 'lcd3227a', '42pt350c', 'kdl50r550a', '47ln5750', '50pfl3707', 'un46fh6030afxza', 'un65f9000afxza', 'un75f7100', '42pj350c', '60ls5750', '60pm6700', '55ea9800', '47lv3700', '32l1350u', 'le39f2280', '5912inch', '60ln5400', 'e500da0', 'tcp42x60', '55ln5600', 'un55fh6030fxza', '26ls3500', 'pn59d6500', 'lc60le657u', 'lc60le757u', 'un22f5000afxza', '21.5inchdiagonal', '55la6900', '50pfl5907', 'tcp65st50', '50la6900', '55ga6400', '39l2300u', 'un55eh6000', 'lc70le847u', 'tcl55wt50', 'tcp50gt30', '55g2', 'lc40le550u', 'kdl46nx720', '60ln5710', '17inch', 'le1711', 'pn64e8000', '42ld450', 'un55es7100', '31.55inch', 'jle32bc3001', '55ul610u', 'st28fmur', '27.5inch', 'e500ia1', '3000', '50pfl3708f7', 'tcp60st50', '60pv450', '32ln549e', 'class31.5inch', '37lk450', 'sled1937', 'e465bvfhdd', 'tcp55ut50', 'p32ewy', '42pfl5907', '42pfl5907f7', 'led32b30rqd', 'tcp55vt50', '4.3inch', 'sc431', 'pn51d7000', 'ns19ed200na14', '55ls4500rb', 'e370a0', '59910inch', 'pn60f8500afxza', '32cs560', 'm701da3r', '32l4300u', '42pn450p', '47lm4700', '55l7200ub', '2', 'ledtv5028', 'ln40d550', '19sl410u', 'p24ewt', 'e470a0', 't22b350nd', '1000150000001', '250', '5', '3.5inch', 'dht235a', '37lt560e', 'un50f6300afxza', 'ledtv3217', 'kdl65s990a', 'nt301', 'ns46d400na14', 'kdl46bx420', 'kdl47w802a', '32ls349crb', 'le39fhde3000', '22lt560c', '47ln5790', 'lc40le810un', 'ns50e440na14', '219', '26le5300', '55ga7900', 'tcl47e50', '39l1350u', 'pn50c490', '22pfl4507', '22pfl4507f7', 'xbr65x900a', 'sled2237', 'tcl55et5', 'sled3900', '32pfl3506', 'e390a1', 'kdl55w802a', 'th42lru5', 'wd82738', '82inch', 'un46es6150', 'pn64f5300af', '5300', 'pn64f5300afxza', 'e291a1', '42lk451c', 'le50fhde3010', 'un60d8000', 'lc60le847u', '32c110', 'hr702', 'e650ia2', 'pn60e6500', '4512inch', 'le46fhde5300', 'kdl40bx450', '42pa450c', 'un65f7050a', 'lc70c8470u', 'sled2400', 'ns39e400na14', 'ns24ed200na14', 'x322bv', 'x462savt', 'pn51d490', 'tcp65gt50', '64.7inch', 'un26d4003bd', '50pa550c', 'un65f7100afxza', '64.5', '32lk450', 'tfdvd3299', 'kdl32w650', 'tcl32e3', 'e425bvfhdd', 'kdl46nx810', '3dready', 'un55c6300', 'pn51d8000', '84', '84l9300ubdx6400kit', 'un65es8000hwe450', 'kdl46hx850', 'led24c45rq', 'm550sl', 'tcl42e3', '47la6900', '55lv5500', '55ln5700', '38.5inch', 'sc391ts', '60pz750', '42ls3400rb', '49.9inch', 'tcp50ut50', '29l1350ub', '42ln549e', 'tcp55st50', 'th50lru60', 'le46f2280', 'lc50le442u', '24ln4510', '2158inch', '22me402v', 'kdl55ex720', 'un46es7100', 'sled4680', '55lv5300', 'm601da3r', 'hg32na470pf', 'kdl32w650a', 'e554', 'kdl70r550a', 'ns55d440na14', 'e601ia3', 'lc80le857u', '46la45rq', '26ld352c', '47ld450c', 'e325bvfmd', '31.7inch', '32lt670h', '40pfl4908', '50pm4700', 'un46eh5300', 'tcp60s30', '47ls5700', 'e420ia0', '50l4300u', 'tcp55gt50', 'sled4280', 'ln46d630m3f', 'tftv4025', '47l7200u', 'tcl32b6', '50pfl3807', 'tcp50st50', '58l7300u', '55lx6500', 'kdl42ex440', 'lc70le735u', 'un65es6500', 'clc504', '42la45rq', 'le39d3', 'pn64e550d1fxza', '48inch', '4758inch', 'le48fhdf3310', '29pfl4908', '60pv250', 'jle42bc3500', 'un55es6580', '42le530c', '42tl515u', 'e328bvhdh', '6070', 'un46eh6070', 'l55b2181', 'tcl32xm6', '50pz750', 'hdlcd4650', 'un46f7100afxza', 'un40f6300afxza', 'pn64e550', '50ln5750', 'le1931', '50pa450c', 'm220mv', 'p552avt', 'v423avt', 'un60es7100', '32ln5310', 'tl32z10edtp', '55ld520c', 'lc32le450u', 'un55d8000', 'dp50842b', 'pn59d8000rb', '42.02inch', 'e422vl', '23l2300u', 'ln32d403', 'un60es7500f', '52inch', 'dp52440', 'se551gs', '55lm7600', 'tcp60ut50', 'pn51d530', 'tcl50e60', '47ln5400', '47', 'e464', 'un46d7000', '3220hd', 'ledtv1526', 'le39d2', 'plded3273a', 'ledtv2916', 'sled3200', '26lv255c', '55sl417u', '60ls5750rb', '24', 'sc2412', '12', 'un46es6600', 'pn50c7000', '32lv2500', 'un55eh6000fxza', 'dp55360', '42cs560', 'e470vle', 'un39fh5000fxza', '37le5300', '32ls3400', 'un55d6400', '5518inch', 'tcp55vt60', 'le55b1381', 'kdl55nx720', '46pfl5907', '46pfl5907f7', '32ln530b', 'un32eh5000fxza', '533', '64.0inch', 'pn64e533d2fxza', '32sl415', 'v652avt', '24v4210ub', 'le2420', 'lc60le550u', 'xvt3d474sv', 'ln46e550rb', 'un40f6400af', 'un60eh6050', '6050', 'ns46e440na14', '578', 'hg40na578lfxza', '40pfl3706', 'un40eh5300fxza', '42pt350', '47lm6400', 'un40f5000', 'l39b2180', 'tcp50gt25', 'm551da2r', '55ln541c', 'un55es6580f', 'sc2211', '55lv3700', 'pn50c8000', 'ln40d503', 'pn51d6500', '47ld452b', 'v701ia3kgb', '69.51inch', 'ns28ed200na14', 'ltdn42v77us', '32dt2u', '47lm7600', '60ls5700', 'nt1506', '16', 'e241la1', '60ga6400', 'pn63c8000', '63inch', '24l4200u', 'plcd3273a', 'un60es6500', '26lv2500', 'un65f8000bfxza', 'lc60c8470u', 'kdl55hx850', 'e320a1', 'plcd3717a', '50l2300u', 'hg40na570lf', 'un46f6400afxza', 'tcl58e60', 'un55f7050arb', '7000', '40pfl7705dvf7', '60la7400', 'hdlcd5050', 'dht235ab', '42l6200u', '8', 'ln46a860rb', '8500', 'pn51f8500afxza', 'le55fhdf3310', '55ls4500', '55lm6200', 'e3d470vx', 'un40c7000', 'kdl70r520a', '70', '47lk451c', 'le58f3281', 'ns32e400na14', 'e654', '400cxn2', '32ln5300', '32ld452brb', 'ledtv5536', 'tyew3d2mmk2', 'tcp55st30', 'un50eh5300fxza', '5958inch', '60ln6150', 'tcp42s30', 'un55f8000bfxza', 'un60f6400afxza', '50ln5400', 'un46d6000sf', 'l24b2120', 'tcp55gt30', '32ld350c', 'un50es6100fxza', 'led42c45rqd', 'un55f7050af', 'kdl32bx310', '47lt560erb', 'kdl60r550a', '47l6200u', '47lm4600', 'un32f6300afxza', '32c120u', 'th50ph30u', 'xbr55hx929', '46pfl3708f7', 'ld4258', '6434inch', 'tcp65zt60', '47lm6700', 'un40fh6030fxza', '1610', '4855wu', 'pn64d8000fxza', 'ln40e550f7fxza', '50pn450p', 'un65es8000', 'led22b45rqd', '42lm3700', 'lc60e88un', 'xbr65x850a', 'lc60le632u', '49.6inch', '50pfl5907f7', '4918inch', '50l2200u', 'tcp50st60', '47lw5300', 'm471ia2', '50k360g', '47lx6500', 'tcp65vt60', 'un46eh6070rb', '42ln5300', '26mf321b', 'lc70le600u', 'nt1902', 'dp39843', '32lk330', '50pn5300', 'm801da3', 'lc80le757u', 'ns50l440na14', 'un46f8000bfxza', 'un55f6300afxza', 'pn50c7000yf', 'xbr55x900a', '55lw5600', 'le58fhde3010', '47cm565', 'm3d470kde', 'un50eh5300rb', '47ga6400', '50ps60c', 'sb3260hdsl', 'nsx46gt1', 'un46f5500', '230hz', 'un65f6400afxza', '60pn5700', 'm2452d', 'un55c6800uf', 'led42c45rq', 'un40es6500', 'x408bvfhd', '22ln4510', '46pfl3908', 'un60f8000bfxza', 'un55es8000fxza', 'un55es8000', 'un40d6300sf', '47le530c', 'le32hdf3010', 'sled3228', 'le40d3281', 'hwf450', 'pn60f8500hwf450', 'dx60d260a13', '50pn4500', 'lc40le830u', 'un46c8000', '32pfl4907', '32pfl4907f7', 'ld3280', '22lb45rq', '40pfl4706f7', 'un50eh6000fxza', 'un55f9000', 'un55es7003rb', '37ld452c', 'un32eh4003f', 'e3d420vx', '42', 'pn64e7000ffxza', 'e550ia0', 'tcp50x3', 'un46es7500', 'un46es7500fxza', 'lbt422u', 'un55eh6000rb', 'led3dtv5586', '50pt350', 'un55c7000', 'un60f6300afxza', 'pn51e450a1fxza', '450', 'un32eh5300fxza', 'e470va', 'lc60le755u', 'kdl55hx800', 'pn59d7000ff', '37lv3500', '7003', 'un55es7003fxza', '32sl415u', 'la2205wg', '50pk750', '13.3inch', 'sc1311', 'lc60e77un', '37lh200c', 'lc60le750u', 'th55lru50', '58l9300ubdx6400kit', '47lw6500', '42lt670h', 'un46eh6030fxza', '55ls4600', '46.96', 'xvt473svc', '1541l', 'un75f6300afxza', 'un60f7500afxza', '7500', 'tftv3227', '55lm6700', '55la9650', '47lm8600', '55ln5790', 'un65f6300afxza', '39l4300u', '47ld950c', 'e422vac', 'ledtv3256', 'pled1960a', '19le5300', 'pn58c7000', 'tcp65st60', '40e210', '40e210u', 'un32eh4003fxza', 'un60eh6002', '29ln4510', '28.5inch', '6560hd', 'un46eh5300fxza', '42ld452c', 'md32b', 'tcl32c3', 'ns19e310a13', '32lv2400', 'le24c3320', 'cw40t2rw', 'kdl46ex523', 'un46d8000', 'lc52le920un', 'kdl32bx330', '5507estl', 'kdl55nx810', 'tc50le64', '55pfl5907f7', 'pt659du', '39ln5300', '65lm6200', '47lw5700', 'un39eh5003', '40ft2ub', 'vw32l', '65lw6500', 'ns39l400na14', 'ledtv2326', 'pn64d7000', 'un40eh5300f', 'un40eh5300', 'dht235aw', 'k316', '46k316', 'ns65d260a13', 'hg32na478pf', 'st6323u1000', '42lm6200', '58l7350u', '60pk750', '60pn6500', 'm3d421sr', 'vt1901led', 'pn51f5500afxza', 'un26eh4000fxza', 'kdl40ex500', 'dw46f1y1', 'un46f6350a', 'un46eh6000fxza', '240cmr', 'pn51d550', 'le39fhdf3300', 'st28hmub', 'un55fh6003fxza', 'le32d3', 'e420a0', 'un60es7150', 'kt2219', 'ns40d40sna14', 'le29f2320', 'tcp42st30', 'se242ts', 'ls4600', 'lge47ls4600x', '39me313v', 'un55d7000', 'kdl40r450a', 'te3913b', 'sc2411', 'tcp65st30', 'xvt3d554sv', '22ld350c', '47lk520', 'kdl32bx320', '32ls3450', 'p462avt', '42ga6400', '47la7400', 'sb3220hd', 'jle42bc3001', 'tcl37dt30', 'pn64d550', 'un40f5500afxza', 'un40d6000sf', 'pn51e530a3fxza', '50ln5700', '42le5500', 'kdl46hx750', '42ld452b', 'jle55sp4000', '55g310u', 'un46es6500', '42lv4400', 'm501da2r', 'tcl32x5', '47lv5500', '470', 'hg32na470pfxza', 'm190vaw', '42ld450c', '24slv411u', '32ls3410', 'un39eh5003fxza', 'pn64d8000f', '47le5500', 'kdl60nx720', 'tftv3728', 'tcp65gt30', 'dht235ar', '3x', 'un65f9000', '32ld452b', 'g310', 'tos55g310ubx', 'kdl55ex640', '22md311b', 'v552avt', 'pn63c7000', '577', 'hg40na577lfxza', 'pn59d550', 'pn60f5300afxza', 'e260va', '26', '55ln5400', 'ptc19lc', '83910inch', '84lm9600', '2k', 'tcp60zt60', '46g310u', 'le1939d', 'e3d320vx', '4707estl', 'kdl50r450a', '60la8600', 'le24vf20', '15.3inch', 'le15ab', 'un65d8000', 'lc70le745u', 'lc32g82', '42ld550', '65la9650', 'sc462tc', '2312inch', 'e241ia1w', 'un32eh5300', 'tcl55dt50', 'm2762dpem', '47la6200', '570', 'hg40na570lfxza', '22ls3500', 'th32lrh30u', 'lc52le830u', 'kdl46hx820', 'e471vle', 'tcp60vt60', 'sled2900', 'ld3235', 'tftv3247', 'e190va', '19', 'vt2405led', 'kdl40ex720', 'le40fhde3010', 'un55es7500', 'un46d7900', 'un55d7900', '42ln5700', '47ga7900', '32lh200c', 'tcp50st30', 'm401ia3', '39ln5700', 'sb4660hdbl', 'un55es6500fxza', 'lc70ud1u', '47lw5600', 'ew40t4fw', '55l7200u', '55la7400', 'pn64e533d2rb', 'le32n1620', 'l32b1120', 'dp47840', '50ln5600', 'tcp60st30', '50pa4500', 'lc60c6500u', 'un50es6500', '49.5', 'th32lru60', '7050', 'un60f7050a', 'e420da0', 'm3d550kd', '60pm9700', 'se391ts', 'ln46e550f6fxza', 'pn64f5500afxza', '8inch', '480i', 'klv39082', 'xbr55x850a', 'led29b30rqd', '50pfl3908', 'kdl46hx800', '42lk450', 'pn51e490', 'lc50le650u', 'sb6560hdwh', 'kdl60r520a', 'th42lru60', 'tcp65s60', 'tcl42et5', 't27a750', 'un55f9000afxza', 'pn51f8500a', '26ld350c', 'un46es8000', 'un46es8000fxza', 'un50eh5000fxza', 'le32f2220', '50pj350c', '42lt770h', 'pn51e550', '26ld350', '60ph6700', 'tcl37e3', 'pn64d7000f', '37ld450', '50pv450c', 'pn51f4500afxza', '27.0inch', 'vt2755led', 'kn55s9cafxza', '50pv450', 'dmt336r', 'e320ia0', '55lv355b', 'pn43d490a1d', 'pn43d490', 'e552vle', '55lk520', 'hg46na578lb', 'lc70le600ur', '29me403v', 'tcl39em60', '50l5200u', '49.11inch', 'un50f5500afxza', 'pn58c680rb', 'tcl47e5', '60pz550', 'ns50d400na14', '22lb45rqd', 'pn51e7000ffxza', '42lv3500', 'tcp60s60', '49inch', 'tos50l5200ubx', '50l5200ub', 'un50f5000af', '42ln5200', '47lm6200', 'th37lru5', '22lv255c', '45.9inchdiagonal', 'un46f5000afxza', '60125inch', 'e401ia2', 'un46f6300afxza', '45.9', 'un29f4000afxza', 'nt1907', 'vt3255led', 'un46es7100fxza', 'un40eh5000fxza', 'e424']\n"
     ]
    }
   ],
   "source": [
    "#creates list of model words\n",
    "MW = []\n",
    "x=0\n",
    "for key in new_title.keys():\n",
    "    word_vec = set_titles[key]\n",
    "    for word in word_vec:\n",
    "        if word not in MW:\n",
    "            MW.append(word)\n",
    "len(MW)\n",
    "print(MW)"
   ]
  },
  {
   "cell_type": "code",
   "execution_count": 39,
   "metadata": {},
   "outputs": [
    {
     "ename": "AttributeError",
     "evalue": "'list' object has no attribute 'split'",
     "output_type": "error",
     "traceback": [
      "\u001b[0;31m---------------------------------------------------------------------------\u001b[0m",
      "\u001b[0;31mAttributeError\u001b[0m                            Traceback (most recent call last)",
      "\u001b[0;32m<ipython-input-39-8c6bd92b918f>\u001b[0m in \u001b[0;36m<module>\u001b[0;34m\u001b[0m\n\u001b[1;32m      4\u001b[0m \u001b[0;32mfor\u001b[0m \u001b[0mp\u001b[0m \u001b[0;32min\u001b[0m \u001b[0mrange\u001b[0m\u001b[0;34m(\u001b[0m\u001b[0mlen\u001b[0m\u001b[0;34m(\u001b[0m\u001b[0mnew_data\u001b[0m\u001b[0;34m)\u001b[0m\u001b[0;34m)\u001b[0m\u001b[0;34m:\u001b[0m\u001b[0;34m\u001b[0m\u001b[0;34m\u001b[0m\u001b[0m\n\u001b[1;32m      5\u001b[0m     \u001b[0mw\u001b[0m\u001b[0;34m=\u001b[0m\u001b[0;36m0\u001b[0m\u001b[0;34m\u001b[0m\u001b[0;34m\u001b[0m\u001b[0m\n\u001b[0;32m----> 6\u001b[0;31m     \u001b[0mtitle_p\u001b[0m \u001b[0;34m=\u001b[0m \u001b[0mset_titles\u001b[0m\u001b[0;34m[\u001b[0m\u001b[0mp\u001b[0m\u001b[0;34m+\u001b[0m\u001b[0;36m1\u001b[0m\u001b[0;34m]\u001b[0m\u001b[0;34m.\u001b[0m\u001b[0msplit\u001b[0m\u001b[0;34m(\u001b[0m\u001b[0;34m)\u001b[0m\u001b[0;34m\u001b[0m\u001b[0;34m\u001b[0m\u001b[0m\n\u001b[0m\u001b[1;32m      7\u001b[0m     \u001b[0;32mfor\u001b[0m \u001b[0mword\u001b[0m \u001b[0;32min\u001b[0m \u001b[0mMW\u001b[0m\u001b[0;34m:\u001b[0m \u001b[0;31m#bestaat hier een functie voor?\u001b[0m\u001b[0;34m\u001b[0m\u001b[0;34m\u001b[0m\u001b[0m\n\u001b[1;32m      8\u001b[0m         \u001b[0;32mif\u001b[0m \u001b[0mword\u001b[0m \u001b[0;32min\u001b[0m \u001b[0mtitle_p\u001b[0m\u001b[0;34m:\u001b[0m\u001b[0;34m\u001b[0m\u001b[0;34m\u001b[0m\u001b[0m\n",
      "\u001b[0;31mAttributeError\u001b[0m: 'list' object has no attribute 'split'"
     ]
    }
   ],
   "source": [
    "#create binary vector \n",
    "#values are set to 1 if model word is present in title\n",
    "binary_matrix = np.zeros((len(MW),len(new_data)))\n",
    "for p in range(len(new_data)):\n",
    "    w=0\n",
    "    title_p = set_titles[p+1].split()\n",
    "    for word in MW: #bestaat hier een functie voor?\n",
    "        if word in title_p:\n",
    "            binary_matrix[w,p]=1\n",
    "        w= w +1\n",
    "    p=p+1\n",
    "print(np.min(np.sum(binary_matrix, axis=0))) #gek want een zin bestaat vgm niet uit         \n",
    "print(binary_matrix[:20, :20])\n",
    "print(binary_matrix.shape)"
   ]
  },
  {
   "cell_type": "code",
   "execution_count": 40,
   "metadata": {},
   "outputs": [
    {
     "ename": "ValueError",
     "evalue": "1 is not in list",
     "output_type": "error",
     "traceback": [
      "\u001b[0;31m---------------------------------------------------------------------------\u001b[0m",
      "\u001b[0;31mValueError\u001b[0m                                Traceback (most recent call last)",
      "\u001b[0;32m<ipython-input-40-b6aa5df1f393>\u001b[0m in \u001b[0;36m<module>\u001b[0;34m\u001b[0m\n\u001b[1;32m     10\u001b[0m     \u001b[0;31m#for p in range(3):\u001b[0m\u001b[0;34m\u001b[0m\u001b[0;34m\u001b[0m\u001b[0;34m\u001b[0m\u001b[0m\n\u001b[1;32m     11\u001b[0m         \u001b[0mv\u001b[0m\u001b[0;34m=\u001b[0m \u001b[0mperm\u001b[0m\u001b[0;34m[\u001b[0m\u001b[0;34m:\u001b[0m\u001b[0;34m,\u001b[0m \u001b[0mp\u001b[0m\u001b[0;34m]\u001b[0m\u001b[0;34m.\u001b[0m\u001b[0mtolist\u001b[0m\u001b[0;34m(\u001b[0m\u001b[0;34m)\u001b[0m\u001b[0;34m\u001b[0m\u001b[0;34m\u001b[0m\u001b[0m\n\u001b[0;32m---> 12\u001b[0;31m         \u001b[0midx\u001b[0m \u001b[0;34m=\u001b[0m \u001b[0mv\u001b[0m\u001b[0;34m.\u001b[0m\u001b[0mindex\u001b[0m\u001b[0;34m(\u001b[0m\u001b[0;36m1\u001b[0m\u001b[0;34m)\u001b[0m\u001b[0;34m\u001b[0m\u001b[0;34m\u001b[0m\u001b[0m\n\u001b[0m\u001b[1;32m     13\u001b[0m         \u001b[0mS\u001b[0m\u001b[0;34m[\u001b[0m\u001b[0mi\u001b[0m\u001b[0;34m,\u001b[0m\u001b[0mp\u001b[0m\u001b[0;34m]\u001b[0m \u001b[0;34m=\u001b[0m \u001b[0midx\u001b[0m\u001b[0;34m\u001b[0m\u001b[0;34m\u001b[0m\u001b[0m\n\u001b[1;32m     14\u001b[0m \u001b[0mprint\u001b[0m\u001b[0;34m(\u001b[0m\u001b[0mS\u001b[0m\u001b[0;34m)\u001b[0m\u001b[0;34m\u001b[0m\u001b[0;34m\u001b[0m\u001b[0m\n",
      "\u001b[0;31mValueError\u001b[0m: 1 is not in list"
     ]
    }
   ],
   "source": [
    "#old min hashing, don't use\n",
    "n = 100 #number of minhash functions\n",
    "S = np.zeros((n, len(new_data))) #signature matrix \n",
    "#S = np.zeros((n, 3)) \n",
    "import itertools\n",
    "#binary_matrix = np.array([[1,1,0],[1,0,0], [0,0,0], [1,1,1]])\n",
    "for i in range(n):\n",
    "    perm = np.random.permutation(binary_matrix)\n",
    "    for p in range(len(new_data)):\n",
    "    #for p in range(3):\n",
    "        v= perm[:, p].tolist()\n",
    "        idx = v.index(1)\n",
    "        S[i,p] = idx\n",
    "print(S)\n",
    "        \n",
    "        \n",
    "        \n"
   ]
  },
  {
   "cell_type": "code",
   "execution_count": 41,
   "metadata": {},
   "outputs": [],
   "source": [
    "#generate random numbers\n",
    "def generateRandomNumbers(n):\n",
    "    randList = []\n",
    "\n",
    "    while n > 0:\n",
    "        # Get a random shingle ID. #max aantal model words of aantal producten? \n",
    "        randIndex = random.randint(0, len(MW)) \n",
    "  \n",
    "        # Ensure that each random number is unique.\n",
    "        while randIndex in randList:\n",
    "            randIndex = random.randint(0, len(MW)) \n",
    "        # Add the random number to the list.\n",
    "        randList.append(randIndex)\n",
    "        n = n - 1\n",
    "    return randList\n",
    "\n",
    "# For each of the 'numHashes' hash functions, generate a different coefficient 'a' and 'b'. \n",
    "n= int(0.5 * len(binary_matrix)) #number of permutations\n",
    "coeffA = generateRandomNumbers(n)\n",
    "coeffB = generateRandomNumbers(n)\n"
   ]
  },
  {
   "cell_type": "code",
   "execution_count": 42,
   "metadata": {},
   "outputs": [],
   "source": [
    "#shape van signature matrix klopt niet \n",
    "#TO make def!\n",
    "\n",
    "signatures=[] #S(|P|,n)\n",
    "#signatures=np.zeros((n, len(new_data)))\n",
    "prime = 5 #nearest prime larger than 1\n",
    "  # Track the lowest hash ID seen. Initialize 'minHashCode' to be greater than\n",
    "        # the maximum possible value output by the hash.\n",
    "n=10\n",
    "\n",
    "#binary matrix is sorted by product (|P|, |MW|)=(1624, 1788)\n",
    "# For each product in binary_matrix...    \n",
    "for product in range(binary_matrix.shape[1]):\n",
    "    signature = []\n",
    "    # For each of the random hash functions...\n",
    "    for i in range(n):\n",
    "\n",
    "        hashCode = (coeffA[i] * product + coeffB[i]) % prime\n",
    "        \n",
    "        # The resulting minhash signature for this document. \n",
    "        \n",
    "        minHashCode = prime +1\n",
    "        for w in range(binary_matrix.shape[0]):\n",
    "            if binary_matrix[w,product]==1:\n",
    "                if hashCode< minHashCode:\n",
    "                    minHashCode = hashCode \n",
    "\n",
    "        # Add the smallest hash code value as component number 'i' of the signature.\n",
    "        signature.append(minHashCode)\n",
    "\n",
    "    # Store the MinHash signature each permutation.\n",
    "    signatures.append(signature)"
   ]
  },
  {
   "cell_type": "code",
   "execution_count": 104,
   "metadata": {},
   "outputs": [
    {
     "data": {
      "text/plain": [
       "(1624, 10)"
      ]
     },
     "execution_count": 104,
     "metadata": {},
     "output_type": "execute_result"
    }
   ],
   "source": [
    "np.array(signatures).shape"
   ]
  },
  {
   "cell_type": "markdown",
   "metadata": {},
   "source": [
    "#### Start right code with definitions"
   ]
  },
  {
   "cell_type": "code",
   "execution_count": 170,
   "metadata": {},
   "outputs": [],
   "source": [
    "def create_binary_matrix(new_data, set_titles):\n",
    "    \"\"\"\n",
    "    param: data, dictionary, length=|P|\n",
    "    param: set_titles, dictionary, lenght=|P|\n",
    "    Returns binary values, list, shape=(|MW|, |P|)\"\"\"\n",
    "    \n",
    "    #Create model word list\n",
    "    MW = []\n",
    "    for key in new_data.keys():\n",
    "        #split title string in vectors of model words \n",
    "        word_vec = set_titles[key].split() \n",
    "        for word in word_vec:\n",
    "            if word not in MW:\n",
    "                MW.append(word)\n",
    "    \n",
    "    #create binary vector \n",
    "    #values are set to 1 if model word is present in title\n",
    "    binary_matrix = np.zeros((len(MW),len(new_data)))\n",
    "    for p in range(len(new_data)):\n",
    "        w=0\n",
    "        title_p = set_titles[p+1].split()\n",
    "        for word in MW: #bestaat hier een functie voor?\n",
    "            if word in title_p:\n",
    "                binary_matrix[w,p]=1\n",
    "            w= w +1\n",
    "        p=p+1\n",
    "    return binary_matrix"
   ]
  },
  {
   "cell_type": "code",
   "execution_count": 173,
   "metadata": {},
   "outputs": [],
   "source": [
    "def generateRandomNumbers(n):\n",
    "    \"\"\"Returns a list of n random numbers\"\"\"\n",
    "    randList = []\n",
    "\n",
    "    while n > 0:\n",
    "        # Get a random model word index\n",
    "        randIndex = random.randint(0, len(MW)) \n",
    "  \n",
    "        # Ensure that each random number is unique.\n",
    "        while randIndex in randList:\n",
    "            randIndex = random.randint(0, len(MW)) \n",
    "        # Add the random number to the list.\n",
    "        randList.append(randIndex)\n",
    "        n = n - 1\n",
    "    return randList\n",
    "\n"
   ]
  },
  {
   "cell_type": "code",
   "execution_count": 176,
   "metadata": {},
   "outputs": [],
   "source": [
    "def minHashing(binary_matrix, prime):\n",
    "    \"\"\"Hashes binary matrix to a signature matrix\n",
    "    param: binary_matrix: binary values sorted by product, array-like, shape=(|MW|, |P|)\n",
    "    param: prime: prime number\n",
    "    returns signatures, list with dimensions (|P|, n)\n",
    "    \"\"\"\n",
    "    n = int(0.5 * len(binary_matrix)) # number of hash functions=1/2*\\MW|\n",
    "    coeffA= generateRandomNumbers(n)\n",
    "    coeffB= generateRandomNumbers(n)\n",
    "   \n",
    "    \n",
    "    signatures=[]\n",
    "    # For each product in binary_matrix create n signatures  \n",
    "    for product in range(binary_matrix.shape[1]):\n",
    "        signature = []\n",
    "        \n",
    "        # For each of the permutation\n",
    "        for i in range(n):\n",
    "            hashCode = (coeffA[i] * product + coeffB[i]) % prime\n",
    "\n",
    "            # Initialize 'minHashCode' to be greater than the maximum possible value output by the hash.\n",
    "            minHashCode = prime +1\n",
    "            #Determine smallest hash code value \n",
    "            for word in range(binary_matrix.shape[0]):\n",
    "                if binary_matrix[word,product]==1:\n",
    "                    if hashCode < minHashCode:\n",
    "                        minHashCode = hashCode \n",
    "\n",
    "            # Add smallest hash code value for hash function 'i' to the signature of product.\n",
    "            signature.append(minHashCode)\n",
    "\n",
    "        # Store the MinHash signature for each permutation.\n",
    "        signatures.append(signature)\n",
    "    return signatures"
   ]
  },
  {
   "cell_type": "code",
   "execution_count": 167,
   "metadata": {},
   "outputs": [],
   "source": [
    "#create bands \n",
    "class LSH():\n",
    "    \n",
    "    def ___init___(self, bands, signatures):\n",
    "        self.b = bands\n",
    "        for i in range(b): \n",
    "            self.buckets.append({}) #construct for each band a empty list for buckets\n",
    "    \n",
    "    def hash_signatures_to_buckets(self, signatures):\n",
    "        \"\"\"\n",
    "        Hashes column bands of each signature to a buckets of that band \n",
    "        : param signatures: array-like, shape=(|P|, n)\n",
    "        returns dictionary with buckets for each band \n",
    "        \"\"\"\n",
    "        buckets=[]\n",
    "        sign_idx=0\n",
    "\n",
    "        #goes trough all product signatures\n",
    "        for signature in signatures: \n",
    "            bands= signature_to_bands(signature)\n",
    "\n",
    "            #goes trough each band i of a product signature\n",
    "            for i, band in enumerate(bands.astype(str)): \n",
    "                band = ','.join(band)\n",
    "                if band not in buckets[i].keys():\n",
    "                    buckets[i][band]=[]\n",
    "                buckets[i][band].append(sign_idx)\n",
    "            sign_idx +=1\n",
    "\n",
    "\n",
    "    def signature_to_bands(self, signature):\n",
    "        \"\"\"\n",
    "        Creates subvectors of length r for each signature vector\n",
    "        : param signature: array-like, shape=(1, |P|)\n",
    "        b: number of bands \n",
    "        returns list of subvectors for signature\n",
    "        \"\"\"\n",
    "        n=len(signature)\n",
    "        bands=[]\n",
    "        assert n % b ==0\n",
    "        r = int(n/b) #number of rows in each band\n",
    "        for i in range(0,len(signature), r):#step size r \n",
    "            bands.append(signature[i:i+r])\n",
    "        return np.stack(bands)\n",
    "\n",
    "\n",
    "    def candidate_neigbors(self):\n",
    "        \"\"\"\n",
    "        Returns list of candidate neigbors\n",
    "        \"\"\"\n",
    "        candidates = []\n",
    "        for bucket_band in self.buckets:\n",
    "            keys = bucket_band.keys()\n",
    "            print(keys)\n",
    "            for bucket in keys:\n",
    "                hits = bucket_band[self.bucket]\n",
    "                if len(hits) > 1:\n",
    "                    candidates.extend(combinations(hits, 2))\n",
    "        return set(candidates)\n",
    "\n",
    "\n",
    "\n",
    "\n"
   ]
  },
  {
   "cell_type": "code",
   "execution_count": 189,
   "metadata": {},
   "outputs": [
    {
     "ename": "KeyboardInterrupt",
     "evalue": "",
     "output_type": "error",
     "traceback": [
      "\u001b[0;31m---------------------------------------------------------------------------\u001b[0m",
      "\u001b[0;31mKeyboardInterrupt\u001b[0m                         Traceback (most recent call last)",
      "\u001b[0;32m/var/folders/z4/1371xzgs2x957drzgvgy3hf40000gn/T/ipykernel_807/3709869466.py\u001b[0m in \u001b[0;36m<module>\u001b[0;34m\u001b[0m\n\u001b[1;32m      2\u001b[0m \u001b[0;31m#print(np.min(np.sum(binary_matrix, axis=0))) #gek want een zin bestaat vgm niet uit\u001b[0m\u001b[0;34m\u001b[0m\u001b[0;34m\u001b[0m\u001b[0;34m\u001b[0m\u001b[0m\n\u001b[1;32m      3\u001b[0m \u001b[0;31m#print(binary_matrix.shape)\u001b[0m\u001b[0;34m\u001b[0m\u001b[0;34m\u001b[0m\u001b[0;34m\u001b[0m\u001b[0m\n\u001b[0;32m----> 4\u001b[0;31m \u001b[0msignatures\u001b[0m\u001b[0;34m=\u001b[0m\u001b[0mminHashing\u001b[0m\u001b[0;34m(\u001b[0m\u001b[0mbinary_matrix\u001b[0m\u001b[0;34m,\u001b[0m \u001b[0;36m947\u001b[0m\u001b[0;34m)\u001b[0m\u001b[0;34m\u001b[0m\u001b[0;34m\u001b[0m\u001b[0m\n\u001b[0m",
      "\u001b[0;32m/var/folders/z4/1371xzgs2x957drzgvgy3hf40000gn/T/ipykernel_807/3082833598.py\u001b[0m in \u001b[0;36mminHashing\u001b[0;34m(binary_matrix, prime)\u001b[0m\n\u001b[1;32m     23\u001b[0m             \u001b[0;31m#Determine smallest hash code value\u001b[0m\u001b[0;34m\u001b[0m\u001b[0;34m\u001b[0m\u001b[0;34m\u001b[0m\u001b[0m\n\u001b[1;32m     24\u001b[0m             \u001b[0;32mfor\u001b[0m \u001b[0mword\u001b[0m \u001b[0;32min\u001b[0m \u001b[0mrange\u001b[0m\u001b[0;34m(\u001b[0m\u001b[0mbinary_matrix\u001b[0m\u001b[0;34m.\u001b[0m\u001b[0mshape\u001b[0m\u001b[0;34m[\u001b[0m\u001b[0;36m0\u001b[0m\u001b[0;34m]\u001b[0m\u001b[0;34m)\u001b[0m\u001b[0;34m:\u001b[0m\u001b[0;34m\u001b[0m\u001b[0;34m\u001b[0m\u001b[0m\n\u001b[0;32m---> 25\u001b[0;31m                 \u001b[0;32mif\u001b[0m \u001b[0mbinary_matrix\u001b[0m\u001b[0;34m[\u001b[0m\u001b[0mword\u001b[0m\u001b[0;34m,\u001b[0m\u001b[0mproduct\u001b[0m\u001b[0;34m]\u001b[0m\u001b[0;34m==\u001b[0m\u001b[0;36m1\u001b[0m\u001b[0;34m:\u001b[0m\u001b[0;34m\u001b[0m\u001b[0;34m\u001b[0m\u001b[0m\n\u001b[0m\u001b[1;32m     26\u001b[0m                     \u001b[0;32mif\u001b[0m \u001b[0mhashCode\u001b[0m \u001b[0;34m<\u001b[0m \u001b[0mminHashCode\u001b[0m\u001b[0;34m:\u001b[0m\u001b[0;34m\u001b[0m\u001b[0;34m\u001b[0m\u001b[0m\n\u001b[1;32m     27\u001b[0m                         \u001b[0mminHashCode\u001b[0m \u001b[0;34m=\u001b[0m \u001b[0mhashCode\u001b[0m\u001b[0;34m\u001b[0m\u001b[0;34m\u001b[0m\u001b[0m\n",
      "\u001b[0;31mKeyboardInterrupt\u001b[0m: "
     ]
    }
   ],
   "source": [
    "binary_matrix= create_binary_matrix(new_data, set_titles)\n",
    "#print(np.min(np.sum(binary_matrix, axis=0))) #gek want een zin bestaat vgm niet uit         \n",
    "#print(binary_matrix.shape)\n",
    "signatures=minHashing(binary_matrix, 947)\n"
   ]
  },
  {
   "cell_type": "code",
   "execution_count": 188,
   "metadata": {},
   "outputs": [
    {
     "data": {
      "text/plain": [
       "(1624, 894)"
      ]
     },
     "execution_count": 188,
     "metadata": {},
     "output_type": "execute_result"
    }
   ],
   "source": [
    "np.array(signatures).shape"
   ]
  },
  {
   "cell_type": "code",
   "execution_count": null,
   "metadata": {},
   "outputs": [],
   "source": [
    "lsh = LSH(20, signatures)\n",
    "neighbors = lsh.candidate_neigbors()"
   ]
  },
  {
   "cell_type": "code",
   "execution_count": 35,
   "metadata": {},
   "outputs": [],
   "source": [
    "#LSH\n",
    "signatures = np.array(signatures).T  #(n, P)\n",
    "#devide S into b bands each containing r rows \n",
    "b = 2 #number of bands \n",
    "\n",
    "#split signature into b bands \n",
    "def make_subvecs(signature, b):\n",
    "    \"\"\"\n",
    "    Creates subvectors of length r for each signature vector\n",
    "    : param signature: array-like, shape=(1, |P|)\n",
    "    b: number of bands \n",
    "    returns list of subvectors for signature\n",
    "    \"\"\"\n",
    "n = len(signature)\n",
    "assert signatures.shape[0] % b ==0\n",
    "r = int(signatures.shape[0]/b) #number of rows in each band\n",
    "#create sub vectors of signature\n",
    "subvecs=[]\n",
    "for i in range(0,n, r):#step size r \n",
    "    subvecs.append(signature[i:i+r])\n",
    "return np.stack(subvecs)\n",
    "\n",
    "\n",
    "\n",
    "#hash to buckets "
   ]
  },
  {
   "cell_type": "code",
   "execution_count": 109,
   "metadata": {},
   "outputs": [
    {
     "data": {
      "text/plain": [
       "array([[ 1,  3,  4,  5],\n",
       "       [ 6,  7,  8, 10],\n",
       "       [ 1,  2,  3,  4]])"
      ]
     },
     "execution_count": 109,
     "metadata": {},
     "output_type": "execute_result"
    }
   ],
   "source": [
    "subvecs=[]\n",
    "b=3\n",
    "#devide signature into bands \n",
    "def make_subvecs(signature, b):\n",
    "    \"\"\"\n",
    "    Creates subvectors of length r for each signature vector\n",
    "    : param signature: array-like, shape=(1, |P|)\n",
    "    b: number of bands \n",
    "    returns list of subvectors for signature\n",
    "    \"\"\"\n",
    "    n=len(signature)\n",
    "    subvecs=[]\n",
    "    assert len(signature) % b ==0\n",
    "    r = int(len(signature)/b) #number of rows in each band\n",
    "    for i in range(0,len(signature), r):#step size r \n",
    "        subvecs.append(signature[i:i+r])\n",
    "    return np.stack(subvecs)\n",
    "\n",
    "make_subvecs(signature1, b)"
   ]
  },
  {
   "cell_type": "code",
   "execution_count": 148,
   "metadata": {},
   "outputs": [],
   "source": [
    "#signatures (p,n) p #for each product a signature\n",
    "b=4\n",
    "def has_to_buckets(b,signatures):\n",
    "    buckets = []\n",
    "    counter=0\n",
    "    for i in range(b): #create for each band buckets\n",
    "        buckets.append({})\n",
    "\n",
    "    for signature in signatures:\n",
    "        subvecs= make_subvecs(signature,b)\n",
    "        #band i \n",
    "        for i, subvec in enumerate(subvecs.astype(str)):\n",
    "            subvec = ','.join(subvec)\n",
    "            if subvec not in buckets[i].keys():\n",
    "                buckets[i][subvec]=[]\n",
    "            buckets[i][subvec].append(counter)\n",
    "        counter +=1\n",
    "    return buckets"
   ]
  },
  {
   "cell_type": "code",
   "execution_count": 152,
   "metadata": {},
   "outputs": [
    {
     "name": "stdout",
     "output_type": "stream",
     "text": [
      "[{'6,7,8,10,1,3': [0], '1,3,4,5,7,7': [1, 2, 3, 4]}, {'4,5,1,2,3,4': [0], '8,10,0,2,3,4': [1], '8,10,1,2,3,4': [2, 4], '8,10,1,2,3,1': [3]}]\n"
     ]
    }
   ],
   "source": [
    "sign0 = [6,7,8,10,1,3,4,5, 1, 2,3,4]\n",
    "sign1 = [1,3,4,5,7,7,8,10, 0, 2,3,4]\n",
    "sign2 = [1,3,4,5,7,7,8,10, 1, 2,3,4]\n",
    "sign3 = [1,3,4,5,7,7,8,10, 1, 2,3,1]\n",
    "sign4 = [1,3,4,5,7,7,8,10, 1, 2,3,4]\n",
    "\n",
    "\n",
    "signatures= np.array([sign0, sign1, sign2, sign3, sign4])\n",
    "\n",
    "buckets= has_to_buckets(2,signatures)\n",
    "\n",
    "print(buckets)"
   ]
  },
  {
   "cell_type": "code",
   "execution_count": 100,
   "metadata": {},
   "outputs": [],
   "source": [
    "def check_candidates():\n",
    "    candidates = []\n",
    "    for bucket_band in buckets:\n",
    "        keys = bucket_band.keys()\n",
    "        print(keys)\n",
    "        for bucket in keys:\n",
    "            hits = bucket_band[bucket]\n",
    "            if len(hits) > 1:\n",
    "                candidates.extend(combinations(hits, 2))\n",
    "    return set(candidates)\n",
    "    \n",
    "    \n",
    "    "
   ]
  },
  {
   "cell_type": "code",
   "execution_count": 168,
   "metadata": {
    "scrolled": false
   },
   "outputs": [],
   "source": [
    "from strsimpy.qgram import QGram\n",
    "q = 2\n",
    "joe=0\n",
    "gamma = 0.5\n",
    "w = 0\n",
    "qgram = QGram(q)\n",
    "\n",
    "KVPi = new_data[1]['featuresMap'].copy() #elke ronde doen\n",
    "KVPj = new_data[2]['featuresMap'].copy()\n",
    "\n",
    "NMKi = KVPi.copy()\n",
    "NMKj = KVPj.copy()"
   ]
  },
  {
   "cell_type": "code",
   "execution_count": 170,
   "metadata": {},
   "outputs": [
    {
     "data": {
      "text/plain": [
       "{'Headphone': 'Yes',\n",
       " 'Remote Control': 'Full Function Remote Control',\n",
       " 'Response Time': '8.5ms',\n",
       " 'Recommended Resolution': '720p',\n",
       " 'Speaker Location': 'Bottom',\n",
       " 'HDMI': 'Yes',\n",
       " 'Dynamic Contrast Ratio': '3500:1',\n",
       " 'Aspect Ratio': '16:9',\n",
       " 'Output Power': '10W + 10W',\n",
       " 'Cabinet Color': 'Black',\n",
       " 'Brightness': '330 cd/m²',\n",
       " 'Maximum Resolution': '1366 x 768',\n",
       " 'Power Consumption': '135W Max',\n",
       " 'Brand': 'SuperSonic',\n",
       " 'Viewing Angle': '176°(H) / 176°(V)',\n",
       " 'Feature': 'Built-in ATSC & NTSC System',\n",
       " 'VESA': 'VESA Compliant',\n",
       " 'Power Supply': 'AC 100-240V, 50/60Hz',\n",
       " 'PC Input': 'D-Sub',\n",
       " 'Display Color': '16.7 Million'}"
      ]
     },
     "execution_count": 170,
     "metadata": {},
     "output_type": "execute_result"
    }
   ],
   "source": [
    "NMKj"
   ]
  },
  {
   "cell_type": "code",
   "execution_count": 9,
   "metadata": {},
   "outputs": [
    {
     "name": "stdout",
     "output_type": "stream",
     "text": [
      "q:  Screen Size Class\n",
      "r:  Headphone\n",
      "r:  Remote Control\n",
      "r:  Response Time\n",
      "r:  Recommended Resolution\n",
      "r:  Speaker Location\n",
      "r:  HDMI\n",
      "r:  Dynamic Contrast Ratio\n",
      "r:  Aspect Ratio\n",
      "r:  Output Power\n",
      "r:  Cabinet Color\n",
      "r:  Brightness\n",
      "r:  Maximum Resolution\n",
      "r:  Screen Size\n",
      "32\"\n",
      "r:  Power Consumption\n",
      "r:  Brand\n",
      "r:  Viewing Angle\n",
      "r:  Feature\n",
      "r:  VESA\n",
      "r:  Power Supply\n",
      "r:  PC Input\n",
      "r:  Display Color\n",
      "q:  DVI Inputs\n",
      "r:  Headphone\n",
      "r:  Remote Control\n",
      "r:  Response Time\n",
      "r:  Recommended Resolution\n",
      "r:  Speaker Location\n",
      "r:  HDMI\n",
      "r:  Dynamic Contrast Ratio\n",
      "r:  Aspect Ratio\n",
      "r:  Output Power\n",
      "r:  Cabinet Color\n",
      "r:  Brightness\n",
      "r:  Maximum Resolution\n",
      "r:  Screen Size\n",
      "r:  Power Consumption\n",
      "r:  Brand\n",
      "r:  Viewing Angle\n",
      "r:  Feature\n",
      "r:  VESA\n",
      "r:  Power Supply\n",
      "r:  PC Input\n",
      "D-Sub\n",
      "r:  Display Color\n",
      "q:  ENERGY STAR Certified\n",
      "r:  Headphone\n",
      "r:  Remote Control\n",
      "r:  Response Time\n",
      "r:  Recommended Resolution\n",
      "r:  Speaker Location\n",
      "r:  HDMI\n",
      "r:  Dynamic Contrast Ratio\n",
      "r:  Aspect Ratio\n",
      "r:  Output Power\n",
      "r:  Cabinet Color\n",
      "r:  Brightness\n",
      "r:  Maximum Resolution\n",
      "r:  Screen Size\n",
      "r:  Power Consumption\n",
      "r:  Brand\n",
      "r:  Viewing Angle\n",
      "r:  Feature\n",
      "r:  VESA\n",
      "r:  Power Supply\n",
      "r:  PC Input\n",
      "r:  Display Color\n",
      "q:  Ethernet Port\n",
      "r:  Headphone\n",
      "r:  Remote Control\n",
      "r:  Response Time\n",
      "r:  Recommended Resolution\n",
      "r:  Speaker Location\n",
      "r:  HDMI\n",
      "r:  Dynamic Contrast Ratio\n",
      "r:  Aspect Ratio\n",
      "r:  Output Power\n",
      "r:  Cabinet Color\n",
      "r:  Brightness\n",
      "r:  Maximum Resolution\n",
      "r:  Screen Size\n",
      "r:  Power Consumption\n",
      "r:  Brand\n",
      "r:  Viewing Angle\n",
      "r:  Feature\n",
      "r:  VESA\n",
      "r:  Power Supply\n",
      "r:  PC Input\n",
      "r:  Display Color\n",
      "q:  Sleep Timer\n",
      "r:  Headphone\n",
      "r:  Remote Control\n",
      "r:  Response Time\n",
      "r:  Recommended Resolution\n",
      "r:  Speaker Location\n",
      "r:  HDMI\n",
      "r:  Dynamic Contrast Ratio\n",
      "r:  Aspect Ratio\n",
      "r:  Output Power\n",
      "r:  Cabinet Color\n",
      "r:  Brightness\n",
      "r:  Maximum Resolution\n",
      "r:  Screen Size\n",
      "r:  Power Consumption\n",
      "r:  Brand\n",
      "r:  Viewing Angle\n",
      "r:  Feature\n",
      "r:  VESA\n",
      "r:  Power Supply\n",
      "r:  PC Input\n",
      "r:  Display Color\n",
      "q:  Width\n",
      "r:  Headphone\n",
      "r:  Remote Control\n",
      "r:  Response Time\n",
      "r:  Recommended Resolution\n",
      "r:  Speaker Location\n",
      "r:  HDMI\n",
      "r:  Dynamic Contrast Ratio\n",
      "r:  Aspect Ratio\n",
      "r:  Output Power\n",
      "r:  Cabinet Color\n",
      "r:  Brightness\n",
      "r:  Maximum Resolution\n",
      "r:  Screen Size\n",
      "r:  Power Consumption\n",
      "r:  Brand\n",
      "r:  Viewing Angle\n",
      "r:  Feature\n",
      "r:  VESA\n",
      "r:  Power Supply\n",
      "r:  PC Input\n",
      "r:  Display Color\n",
      "q:  USB Port\n",
      "r:  Headphone\n",
      "r:  Remote Control\n",
      "r:  Response Time\n",
      "r:  Recommended Resolution\n",
      "r:  Speaker Location\n",
      "r:  HDMI\n",
      "r:  Dynamic Contrast Ratio\n",
      "r:  Aspect Ratio\n",
      "r:  Output Power\n",
      "r:  Cabinet Color\n",
      "r:  Brightness\n",
      "r:  Maximum Resolution\n",
      "r:  Screen Size\n",
      "r:  Power Consumption\n",
      "r:  Brand\n",
      "r:  Viewing Angle\n",
      "r:  Feature\n",
      "r:  VESA\n",
      "r:  Power Supply\n",
      "r:  PC Input\n",
      "r:  Display Color\n",
      "q:  TV Type\n",
      "r:  Headphone\n",
      "r:  Remote Control\n",
      "r:  Response Time\n",
      "r:  Recommended Resolution\n",
      "r:  Speaker Location\n",
      "r:  HDMI\n",
      "r:  Dynamic Contrast Ratio\n",
      "r:  Aspect Ratio\n",
      "r:  Output Power\n",
      "r:  Cabinet Color\n",
      "r:  Brightness\n",
      "r:  Maximum Resolution\n",
      "r:  Screen Size\n",
      "r:  Power Consumption\n",
      "r:  Brand\n",
      "r:  Viewing Angle\n",
      "r:  Feature\n",
      "r:  VESA\n",
      "r:  Power Supply\n",
      "r:  PC Input\n",
      "r:  Display Color\n",
      "q:  V-Chip\n",
      "r:  Headphone\n",
      "r:  Remote Control\n",
      "r:  Response Time\n",
      "r:  Recommended Resolution\n",
      "r:  Speaker Location\n",
      "r:  HDMI\n",
      "r:  Dynamic Contrast Ratio\n",
      "r:  Aspect Ratio\n",
      "r:  Output Power\n",
      "r:  Cabinet Color\n",
      "r:  Brightness\n",
      "r:  Maximum Resolution\n",
      "r:  Screen Size\n",
      "r:  Power Consumption\n",
      "r:  Brand\n",
      "r:  Viewing Angle\n",
      "r:  Feature\n",
      "r:  VESA\n",
      "r:  Power Supply\n",
      "r:  PC Input\n",
      "r:  Display Color\n",
      "q:  Component Video Inputs\n",
      "r:  Headphone\n",
      "r:  Remote Control\n",
      "r:  Response Time\n",
      "r:  Recommended Resolution\n",
      "r:  Speaker Location\n",
      "r:  HDMI\n",
      "r:  Dynamic Contrast Ratio\n",
      "r:  Aspect Ratio\n",
      "r:  Output Power\n",
      "r:  Cabinet Color\n",
      "r:  Brightness\n",
      "r:  Maximum Resolution\n",
      "r:  Screen Size\n",
      "r:  Power Consumption\n",
      "r:  Brand\n",
      "r:  Viewing Angle\n",
      "r:  Feature\n",
      "r:  VESA\n",
      "r:  Power Supply\n",
      "r:  PC Input\n",
      "r:  Display Color\n",
      "q:  UPC\n",
      "r:  Headphone\n",
      "r:  Remote Control\n",
      "r:  Response Time\n",
      "r:  Recommended Resolution\n",
      "r:  Speaker Location\n",
      "r:  HDMI\n",
      "r:  Dynamic Contrast Ratio\n",
      "r:  Aspect Ratio\n",
      "r:  Output Power\n",
      "r:  Cabinet Color\n",
      "r:  Brightness\n",
      "r:  Maximum Resolution\n",
      "r:  Screen Size\n",
      "r:  Power Consumption\n",
      "r:  Brand\n",
      "r:  Viewing Angle\n",
      "r:  Feature\n",
      "r:  VESA\n",
      "r:  Power Supply\n",
      "r:  PC Input\n",
      "r:  Display Color\n",
      "q:  Screen Size (Measured Diagonally)\n",
      "r:  Headphone\n",
      "r:  Remote Control\n",
      "r:  Response Time\n",
      "r:  Recommended Resolution\n",
      "r:  Speaker Location\n",
      "r:  HDMI\n",
      "r:  Dynamic Contrast Ratio\n",
      "r:  Aspect Ratio\n",
      "r:  Output Power\n",
      "r:  Cabinet Color\n",
      "r:  Brightness\n",
      "r:  Maximum Resolution\n",
      "r:  Screen Size\n",
      "r:  Power Consumption\n",
      "r:  Brand\n",
      "r:  Viewing Angle\n",
      "r:  Feature\n",
      "r:  VESA\n",
      "r:  Power Supply\n",
      "r:  PC Input\n",
      "r:  Display Color\n",
      "q:  Mount Bracket/VESA Pattern\n",
      "r:  Headphone\n",
      "r:  Remote Control\n",
      "r:  Response Time\n",
      "r:  Recommended Resolution\n",
      "r:  Speaker Location\n",
      "r:  HDMI\n",
      "r:  Dynamic Contrast Ratio\n",
      "r:  Aspect Ratio\n",
      "r:  Output Power\n",
      "r:  Cabinet Color\n",
      "r:  Brightness\n",
      "r:  Maximum Resolution\n",
      "r:  Screen Size\n",
      "r:  Power Consumption\n",
      "r:  Brand\n",
      "r:  Viewing Angle\n",
      "r:  Feature\n",
      "r:  VESA\n",
      "r:  Power Supply\n",
      "r:  PC Input\n",
      "r:  Display Color\n",
      "q:  PC Inputs\n",
      "r:  Headphone\n",
      "r:  Remote Control\n",
      "r:  Response Time\n",
      "r:  Recommended Resolution\n",
      "r:  Speaker Location\n",
      "r:  HDMI\n",
      "r:  Dynamic Contrast Ratio\n",
      "r:  Aspect Ratio\n",
      "r:  Output Power\n",
      "r:  Cabinet Color\n",
      "r:  Brightness\n",
      "r:  Maximum Resolution\n",
      "r:  Screen Size\n",
      "r:  Power Consumption\n",
      "r:  Brand\n",
      "r:  Viewing Angle\n",
      "r:  Feature\n",
      "r:  VESA\n",
      "r:  Power Supply\n",
      "r:  PC Input\n"
     ]
    },
    {
     "ename": "KeyError",
     "evalue": "'PC Input'",
     "output_type": "error",
     "traceback": [
      "\u001b[0;31m---------------------------------------------------------------------------\u001b[0m",
      "\u001b[0;31mKeyError\u001b[0m                                  Traceback (most recent call last)",
      "\u001b[0;32m/var/folders/z4/1371xzgs2x957drzgvgy3hf40000gn/T/ipykernel_3240/243070789.py\u001b[0m in \u001b[0;36m<module>\u001b[0;34m\u001b[0m\n\u001b[1;32m     47\u001b[0m             \u001b[0mm\u001b[0m \u001b[0;34m+=\u001b[0m\u001b[0;36m1\u001b[0m\u001b[0;34m\u001b[0m\u001b[0;34m\u001b[0m\u001b[0m\n\u001b[1;32m     48\u001b[0m             \u001b[0mw\u001b[0m \u001b[0;34m+=\u001b[0m \u001b[0mkeySim\u001b[0m\u001b[0;34m\u001b[0m\u001b[0;34m\u001b[0m\u001b[0m\n\u001b[0;32m---> 49\u001b[0;31m             \u001b[0mprint\u001b[0m\u001b[0;34m(\u001b[0m\u001b[0mNMKj\u001b[0m\u001b[0;34m[\u001b[0m\u001b[0mkey_r\u001b[0m\u001b[0;34m]\u001b[0m\u001b[0;34m)\u001b[0m\u001b[0;34m\u001b[0m\u001b[0;34m\u001b[0m\u001b[0m\n\u001b[0m\u001b[1;32m     50\u001b[0m             \u001b[0;32mdel\u001b[0m \u001b[0mNMKj\u001b[0m\u001b[0;34m[\u001b[0m\u001b[0mkey_r\u001b[0m\u001b[0;34m]\u001b[0m\u001b[0;34m\u001b[0m\u001b[0;34m\u001b[0m\u001b[0m\n\u001b[1;32m     51\u001b[0m             \u001b[0mremove_q\u001b[0m \u001b[0;34m=\u001b[0m \u001b[0;32mTrue\u001b[0m\u001b[0;34m\u001b[0m\u001b[0;34m\u001b[0m\u001b[0m\n",
      "\u001b[0;31mKeyError\u001b[0m: 'PC Input'"
     ]
    }
   ],
   "source": [
    "def calcSim(string_q, string_r, q):\n",
    "    \"\"\"Returns the q-gram similarity of two strings\n",
    "    param: string_q, string-alike\n",
    "    param: string_r, string-alike\n",
    "    param: qgram, q-gram value\n",
    "    \"\"\"\n",
    "    \n",
    "    n_q= len(string_q) - q + 1\n",
    "    n_r= len(string_r) - q + 1\n",
    "    \n",
    "    return (n_q + n_r - qgram.distance(string_q, string_r)) / (n_q + n_r)\n",
    "\n",
    "\n",
    "def exMW(non_matching_key_values):\n",
    "    \"\"\"Returns all model words from the values of the attributes from product p\"\"\"\n",
    "    \n",
    "    list_values= [non_matching_key_values[key] for key in non_matching_key_values.keys()]\n",
    "    #do cleaning\n",
    "    \n",
    "    return list_values\n",
    "\n",
    "def mw(set_i, set_j): \n",
    "    \"\"\"Returns percentage of matching model words from two sets of model words\n",
    "    \"\"\"\n",
    "    return len(set(set_i).intersection(set_j)) / (len(set_i) + len(set_j))\n",
    "\n",
    "def minFeatures(features_i, features_j):\n",
    "    \"\"\"Returns the q-gram similarity of two strings\n",
    "    param: features1, feature map of product i, dictionary\n",
    "    param: features2, feature map of product j,  dictionary\n",
    "    \"\"\"\n",
    "    return min(len(features_i.keys()), len(featurer_j.keys()))\n",
    "\n",
    "from strsimpy.qgram import QGram\n",
    "q = 2\n",
    "joe=0\n",
    "gamma = 0.5\n",
    "w = 0\n",
    "qgram = QGram(q)\n",
    "\n",
    "KVPi = new_data[1]['featuresMap'].copy() #elke ronde doen\n",
    "KVPj = new_data[2]['featuresMap'].copy()\n",
    "\n",
    "#ititialise parameters\n",
    "NMKi = KVPi.copy()\n",
    "NMKj = KVPj.copy()\n",
    "sim=0\n",
    "avgSim=0\n",
    "m=0\n",
    "w=0\n",
    "\n",
    "for key_q in KVPi.keys():\n",
    "    remove_q = False\n",
    "    print('q: ',key_q)\n",
    "    for key_r in KVPj.keys():\n",
    "        keySim = calcSim(key_q, key_r, q)\n",
    "        print('r: ',key_r)\n",
    "        if keySim > gamma:\n",
    "            valueSim = calcSim(new_data[1]['featuresMap'][key_q], new_data[2]['featuresMap'][key_r], q)\n",
    "            sim = sim + keySim*valueSim\n",
    "            m +=1\n",
    "            w += keySim\n",
    "            print(NMKj[key_r])\n",
    "            del NMKj[key_r]\n",
    "            remove_q = True\n",
    "            \n",
    "    if remove_q:\n",
    "        del NMKi[key_q]\n",
    "    \n",
    "if w > 0:\n",
    "    avgSim = sim / w\n",
    "    \n",
    "    \n"
   ]
  },
  {
   "cell_type": "code",
   "execution_count": 167,
   "metadata": {},
   "outputs": [
    {
     "data": {
      "text/plain": [
       "{'Headphone': 'Yes',\n",
       " 'Remote Control': 'Full Function Remote Control',\n",
       " 'Response Time': '8.5ms',\n",
       " 'Recommended Resolution': '720p',\n",
       " 'Speaker Location': 'Bottom',\n",
       " 'HDMI': 'Yes',\n",
       " 'Dynamic Contrast Ratio': '3500:1',\n",
       " 'Aspect Ratio': '16:9',\n",
       " 'Output Power': '10W + 10W',\n",
       " 'Cabinet Color': 'Black',\n",
       " 'Brightness': '330 cd/m²',\n",
       " 'Maximum Resolution': '1366 x 768',\n",
       " 'Power Consumption': '135W Max',\n",
       " 'Brand': 'SuperSonic',\n",
       " 'Viewing Angle': '176°(H) / 176°(V)',\n",
       " 'Feature': 'Built-in ATSC & NTSC System',\n",
       " 'VESA': 'VESA Compliant',\n",
       " 'Power Supply': 'AC 100-240V, 50/60Hz',\n",
       " 'Display Color': '16.7 Million'}"
      ]
     },
     "execution_count": 167,
     "metadata": {},
     "output_type": "execute_result"
    }
   ],
   "source": [
    "NMKj"
   ]
  },
  {
   "cell_type": "code",
   "execution_count": 136,
   "metadata": {},
   "outputs": [
    {
     "data": {
      "text/plain": [
       "{'Headphone': 'Yes',\n",
       " 'Remote Control': 'Full Function Remote Control',\n",
       " 'Response Time': '8.5ms',\n",
       " 'Recommended Resolution': '720p',\n",
       " 'Speaker Location': 'Bottom',\n",
       " 'HDMI': 'Yes',\n",
       " 'Dynamic Contrast Ratio': '3500:1',\n",
       " 'Aspect Ratio': '16:9',\n",
       " 'Output Power': '10W + 10W',\n",
       " 'Cabinet Color': 'Black',\n",
       " 'Brightness': '330 cd/m²',\n",
       " 'Maximum Resolution': '1366 x 768',\n",
       " 'Screen Size': '32\"',\n",
       " 'Power Consumption': '135W Max',\n",
       " 'Brand': 'SuperSonic',\n",
       " 'Viewing Angle': '176°(H) / 176°(V)',\n",
       " 'Feature': 'Built-in ATSC & NTSC System',\n",
       " 'VESA': 'VESA Compliant',\n",
       " 'Power Supply': 'AC 100-240V, 50/60Hz',\n",
       " 'PC Input': 'D-Sub',\n",
       " 'Display Color': '16.7 Million'}"
      ]
     },
     "execution_count": 136,
     "metadata": {},
     "output_type": "execute_result"
    }
   ],
   "source": [
    "NMKj"
   ]
  },
  {
   "cell_type": "code",
   "execution_count": 12,
   "metadata": {},
   "outputs": [
    {
     "name": "stdout",
     "output_type": "stream",
     "text": [
      "0.3333333333333333\n"
     ]
    }
   ],
   "source": [
    "set_i = ['hoi', 'doei', 'mooi']\n",
    "set_j = ['hoi', 'doei', 'lelijk']\n",
    "\n",
    "def mw(set_i, set_j): \n",
    "    \"\"\"Returns percentage of matching model words from two sets of model words\n",
    "    \"\"\"\n",
    "    return len(set(set_i).intersection(set_j)) / (len(set_i) + len(set_j))\n",
    "\n",
    "print(mw(set_i, set_j))"
   ]
  }
 ],
 "metadata": {
  "kernelspec": {
   "display_name": "Python 3 (ipykernel)",
   "language": "python",
   "name": "python3"
  },
  "language_info": {
   "codemirror_mode": {
    "name": "ipython",
    "version": 3
   },
   "file_extension": ".py",
   "mimetype": "text/x-python",
   "name": "python",
   "nbconvert_exporter": "python",
   "pygments_lexer": "ipython3",
   "version": "3.8.12"
  }
 },
 "nbformat": 4,
 "nbformat_minor": 4
}
